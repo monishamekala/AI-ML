{
 "cells": [
  {
   "cell_type": "code",
   "execution_count": 9,
   "metadata": {},
   "outputs": [
    {
     "name": "stdout",
     "output_type": "stream",
     "text": [
      "Path found : ['A', 'C', 'E', 'G', 'H', 'I', 'J']\n"
     ]
    },
    {
     "data": {
      "text/plain": [
       "['A', 'C', 'E', 'G', 'H', 'I', 'J']"
      ]
     },
     "execution_count": 9,
     "metadata": {},
     "output_type": "execute_result"
    }
   ],
   "source": [
    "def aStarAlgo(start, stop):\n",
    "    openSet = set(start)\n",
    "    close = set()\n",
    "    g = {}\n",
    "    parents = {}\n",
    "    g[start] = 0\n",
    "    parents[start] = start\n",
    "    \n",
    "    while len(openSet) > 0:\n",
    "        n = None\n",
    "        for v in openSet:\n",
    "            if n == None or g[v] + heuristics(v) < g[n] + heuristics(n):\n",
    "                n = v\n",
    "        if n == stop or Graph[n] == None:\n",
    "            pass\n",
    "        else:\n",
    "            for (m, weight) in get_neighbors(n):\n",
    "                if m not in openSet and m not in close:\n",
    "                    openSet.add(m)\n",
    "                    parents[m] = n\n",
    "                    g[m] = g[n] + weight\n",
    "                else:\n",
    "                    if g[m] > g[n] + weight:\n",
    "                        g[m] = g[n] + weight\n",
    "                        parents[m] = n\n",
    "                        if m in close:\n",
    "                            close.remove(m)\n",
    "                            openSet.add(m)\n",
    "                            \n",
    "        if n == None:\n",
    "            print(\"Path does not exist\")\n",
    "            return None\n",
    "        \n",
    "        if n == stop:\n",
    "            path = []\n",
    "            while parents[n] != n:\n",
    "                path.append(n)\n",
    "                n = parents[n]\n",
    "            path.append(start)\n",
    "            path.reverse()\n",
    "            print(\"Path found : {}\".format(path))\n",
    "            return path\n",
    "        openSet.remove(n)\n",
    "        close.add(n)\n",
    "    print(\"Path does not exist\")\n",
    "    return None\n",
    "\n",
    "def get_neighbors(v):\n",
    "    if v in Graph:\n",
    "        return Graph[v]\n",
    "    else:\n",
    "        return None\n",
    "    \n",
    "def heuristics(n):\n",
    "    h_dist = {\n",
    "        'A':10,\n",
    "        'B':8,\n",
    "        'C':5,\n",
    "        'D':7,\n",
    "        'E':5,\n",
    "        'F':9,\n",
    "        'G':2,\n",
    "        'H':1,\n",
    "        'I':3,\n",
    "        'J':0\n",
    "    }\n",
    "    return h_dist[n]\n",
    "    \n",
    "    \n",
    "Graph = {\n",
    "    'A':[('B',6),('C',3)],\n",
    "    'B':[('C',4),('D',1)],\n",
    "    'C':[('D',2),('E',2)],\n",
    "    'D':[('C',2),('E',3)],\n",
    "    'E':[('F',4),('G',1)],\n",
    "    'F':[('G',3),('H',1)],\n",
    "    'G':[('H',2)],\n",
    "    'H':[('I',3)],\n",
    "    'I':[('E',4),('J',4)]\n",
    "}\n",
    "\n",
    "aStarAlgo('A','J')"
   ]
  }
 ],
 "metadata": {
  "kernelspec": {
   "display_name": "Python 3",
   "language": "python",
   "name": "python3"
  },
  "language_info": {
   "codemirror_mode": {
    "name": "ipython",
    "version": 3
   },
   "file_extension": ".py",
   "mimetype": "text/x-python",
   "name": "python",
   "nbconvert_exporter": "python",
   "pygments_lexer": "ipython3",
   "version": "3.8.5"
  }
 },
 "nbformat": 4,
 "nbformat_minor": 4
}
