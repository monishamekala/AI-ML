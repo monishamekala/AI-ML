{
 "cells": [
  {
   "cell_type": "code",
   "execution_count": 3,
   "metadata": {},
   "outputs": [
    {
     "name": "stdout",
     "output_type": "stream",
     "text": [
      "[[0.93761023]\n",
      " [0.35162242]\n",
      " [0.06668881]] W\n",
      "[[0.93761023 0.35162242 0.06668881]] WT\n",
      "[[0.82269934]\n",
      " [0.83125734]\n",
      " [0.83175996]] output\n",
      "Input: \n",
      "[[ 1  3]\n",
      " [ 4  7]\n",
      " [ 6 10]]\n",
      "Actual Output: \n",
      "[[0.9 ]\n",
      " [0.8 ]\n",
      " [0.98]]\n",
      "Predicted Output: \n",
      " [[0.82269934]\n",
      " [0.83125734]\n",
      " [0.83175996]]\n"
     ]
    }
   ],
   "source": [
    "import numpy as np\n",
    "X = np.array(([1,3],[4,7],[6,10])) # Hours Studied, Hours Slept\n",
    "y = np.array(([90],[80],[98])) # Test Score\n",
    "y = y/100 # max test score is 100\n",
    "\n",
    "\n",
    "\n",
    "#Sigmoid Function\n",
    "def sigmoid(x): #this function maps any value between 0 and 1\n",
    "    return 1/(1 + np.exp(-x))\n",
    "#Derivative of Sigmoid Function\n",
    "def derivatives_sigmoid(x):\n",
    "    return x * (1 - x)\n",
    "\n",
    "\n",
    "\n",
    "#Variable initialization\n",
    "epoch=1 #Setting training iterations\n",
    "lr=0.1 #Setting learning rate\n",
    "inputlayer_neurons = 2 #number of features in data set\n",
    "hiddenlayer_neurons = 3 #number of hidden layers neurons\n",
    "output_neurons = 1 #number of neurons of output layer\n",
    "\n",
    "\n",
    "\n",
    "wh=np.random.uniform(size=(inputlayer_neurons,hiddenlayer_neurons))\n",
    "bias_hidden=np.random.uniform(size=(1,hiddenlayer_neurons)) #bias matrix to the hidden\n",
    "weight_hidden=np.random.uniform(size=(hiddenlayer_neurons,output_neurons)) #weight matr\n",
    "bias_output=np.random.uniform(size=(1,output_neurons)) # matrix to the output layer\n",
    "print(weight_hidden,\"W\")\n",
    "print(weight_hidden.T,\"WT\")\n",
    "\n",
    "\n",
    "\n",
    "for i in range(epoch):\n",
    "    hinp1=np.dot(X,wh)\n",
    "    hinp= hinp1 + bias_hidden #bias_hidden GRADIENT DISCENT\n",
    "    hlayer_activation = sigmoid(hinp)\n",
    "    outinp1=np.dot(hlayer_activation,weight_hidden)\n",
    "    outinp= outinp1+ bias_output\n",
    "    output = sigmoid(outinp)\n",
    "    print(output,\"output\")\n",
    "    \n",
    "    \n",
    "    \n",
    "    EO = y-output\n",
    "    outgrad = derivatives_sigmoid(output) \n",
    "    d_output = EO * outgrad \n",
    "    EH = d_output.dot(weight_hidden.T) \n",
    "    hiddengrad = derivatives_sigmoid(hlayer_activation)\n",
    "    d_hiddenlayer = EH * hiddengrad\n",
    "    weight_hidden += hlayer_activation.T.dot(d_output) *lr\n",
    "    bias_hidden += np.sum(d_hiddenlayer, axis=0,keepdims=True) *lr\n",
    "    wh += X.T.dot(d_hiddenlayer) *lr\n",
    "    bias_output += np.sum(d_output, axis=0,keepdims=True) *lr\n",
    "\n",
    "print(\"Input: \\n\" + str(X))\n",
    "print(\"Actual Output: \\n\" + str(y))\n",
    "print(\"Predicted Output: \\n\" ,output)"
   ]
  },
  {
   "cell_type": "code",
   "execution_count": null,
   "metadata": {},
   "outputs": [],
   "source": []
  }
 ],
 "metadata": {
  "kernelspec": {
   "display_name": "Python 3",
   "language": "python",
   "name": "python3"
  },
  "language_info": {
   "codemirror_mode": {
    "name": "ipython",
    "version": 3
   },
   "file_extension": ".py",
   "mimetype": "text/x-python",
   "name": "python",
   "nbconvert_exporter": "python",
   "pygments_lexer": "ipython3",
   "version": "3.8.5"
  }
 },
 "nbformat": 4,
 "nbformat_minor": 4
}
